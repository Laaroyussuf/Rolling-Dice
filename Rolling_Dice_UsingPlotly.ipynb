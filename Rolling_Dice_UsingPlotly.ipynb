{
 "cells": [
  {
   "cell_type": "code",
   "execution_count": null,
   "id": "894b8817",
   "metadata": {},
   "outputs": [],
   "source": [
    "# Visualization of variation of possible result\n",
    "from plotly.graph_objs import Bar, Layout\n",
    "from plotly import offline\n",
    "import random\n",
    "class Die:\n",
    "    def __init__(self, num_side=6):\n",
    "        self.num_side = num_side\n",
    "\n",
    "    def roll(self):\n",
    "        return random.randint(1, self.num_side)\n",
    "\n",
    "die = Die()\n",
    "results = [die.roll() for roll_num in range(100)]\n",
    "frequencies = [results.count(value) for value in range(1, die.num_side+1)]\n",
    "\n",
    "\n",
    "x_value = list(range(1, die.num_side+1))\n",
    "data = [Bar(x=x_value, y=frequencies)]\n",
    "x_axis_config = {'title': 'Result', 'dtick':1}\n",
    "y_axis_config = {'title': 'Frequency of Result'}\n",
    "my_layout = Layout(title='Results of rolling D6 100 times', xaxis=x_axis_config, yaxis=y_axis_config)\n",
    "offline.plot({'data': data, 'layout': my_layout}, filename='D6.html')"
   ]
  }
 ],
 "metadata": {
  "kernelspec": {
   "display_name": "Python 3 (ipykernel)",
   "language": "python",
   "name": "python3"
  },
  "language_info": {
   "codemirror_mode": {
    "name": "ipython",
    "version": 3
   },
   "file_extension": ".py",
   "mimetype": "text/x-python",
   "name": "python",
   "nbconvert_exporter": "python",
   "pygments_lexer": "ipython3",
   "version": "3.9.12"
  },
  "varInspector": {
   "cols": {
    "lenName": 16,
    "lenType": 16,
    "lenVar": 40
   },
   "kernels_config": {
    "python": {
     "delete_cmd_postfix": "",
     "delete_cmd_prefix": "del ",
     "library": "var_list.py",
     "varRefreshCmd": "print(var_dic_list())"
    },
    "r": {
     "delete_cmd_postfix": ") ",
     "delete_cmd_prefix": "rm(",
     "library": "var_list.r",
     "varRefreshCmd": "cat(var_dic_list()) "
    }
   },
   "types_to_exclude": [
    "module",
    "function",
    "builtin_function_or_method",
    "instance",
    "_Feature"
   ],
   "window_display": false
  }
 },
 "nbformat": 4,
 "nbformat_minor": 5
}
